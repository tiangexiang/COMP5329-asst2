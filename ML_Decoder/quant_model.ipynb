{
 "cells": [
  {
   "cell_type": "code",
   "execution_count": 1,
   "metadata": {},
   "outputs": [
    {
     "name": "stderr",
     "output_type": "stream",
     "text": [
      "/home/administrator/anaconda3/envs/5329/lib/python3.8/site-packages/tqdm/auto.py:22: TqdmWarning: IProgress not found. Please update jupyter and ipywidgets. See https://ipywidgets.readthedocs.io/en/stable/user_install.html\n",
      "  from .autonotebook import tqdm as notebook_tqdm\n"
     ]
    }
   ],
   "source": [
    "import sys\n",
    "sys.path.insert(0, '../nn-compression')\n",
    "\n",
    "from slender.coding import Codec\n",
    "import os\n",
    "import argparse\n",
    "import time\n",
    "\n",
    "import torch\n",
    "import torch.nn.parallel\n",
    "import torch.optim\n",
    "import torch.utils.data.distributed\n",
    "import torch.nn as nn\n",
    "from src_files.helper_functions.bn_fusion import fuse_bn_recursively\n",
    "from src_files.models import create_model\n",
    "import matplotlib\n",
    "\n",
    "from src_files.models.tresnet.tresnet import InplacABN_to_ABN\n",
    "from dataset import MultiLabelDataset\n",
    "\n",
    "matplotlib.use('TkAgg')\n",
    "matplotlib.use('TkAgg')\n",
    "import matplotlib.pyplot as plt\n",
    "from PIL import Image\n",
    "import numpy as np\n",
    "from tqdm import tqdm"
   ]
  },
  {
   "cell_type": "code",
   "execution_count": 3,
   "metadata": {},
   "outputs": [],
   "source": [
    "# parser = argparse.ArgumentParser(description='PyTorch MS_COCO infer')\n",
    "# parser.add_argument('--num-classes', default=80, type=int)\n",
    "# parser.add_argument('--model-path', type=str, default='tresnet_xl_COCO_640_91_4.pth')\n",
    "# parser.add_argument('--pic-path', type=str, default='./pics/000000000885.jpg')\n",
    "# parser.add_argument('--model-name', type=str, default='tresnet_xl')\n",
    "# parser.add_argument('--image-size', type=int, default=640)\n",
    "# # parser.add_argument('--dataset-type', type=str, default='MS-COCO')\n",
    "# parser.add_argument('--th', type=float, default=0.75)\n",
    "# parser.add_argument('--top-k', type=float, default=20)\n",
    "# # ML-Decoder\n",
    "# parser.add_argument('--use-ml-decoder', default=1, type=int)\n",
    "# parser.add_argument('--num-of-groups', default=-1, type=int)  # full-decoding\n",
    "# parser.add_argument('--decoder-embedding', default=768, type=int)\n",
    "# parser.add_argument('--zsl', default=0, type=int)\n",
    "\n",
    "class Args:\n",
    "  num_classes = 80\n",
    "  model_path = 'tresnet_xl_COCO_640_91_4.pth'\n",
    "  model_name = 'tresnet_xl'\n",
    "  image_size = 640\n",
    "  use_ml_decoder = 1\n",
    "  num_of_groups = -1\n",
    "  decoder_embedding = 768\n",
    "  zsl = 0\n",
    "  \n",
    "args = Args()"
   ]
  },
  {
   "cell_type": "code",
   "execution_count": 4,
   "metadata": {},
   "outputs": [
    {
     "name": "stdout",
     "output_type": "stream",
     "text": [
      "creating model tresnet_xl...\n",
      "254\n"
     ]
    }
   ],
   "source": [
    "backend = \"fbgemm\"\n",
    "\n",
    "# Setup model\n",
    "print('creating model {}...'.format('tresnet_xl'))\n",
    "model = create_model(args, load_head=True).cuda()\n",
    "state = torch.load(args.model_path, map_location='cpu')\n",
    "model.load_state_dict(state['model'], strict=True)\n",
    "########### eliminate BN for faster inference ###########\n",
    "model = model.cpu()\n",
    "model = InplacABN_to_ABN(model)\n",
    "model = fuse_bn_recursively(model)\n",
    "model = model.half().eval()\n",
    "#model = model.fl#oat().eval()\n",
    "rule = []\n",
    "for m, v in model.named_parameters():\n",
    "    if m[-6:] == 'weight':\n",
    "        rule.append((m, 'huffman', 0, 0, 4))\n",
    "print(len(rule))"
   ]
  },
  {
   "cell_type": "code",
   "execution_count": null,
   "metadata": {},
   "outputs": [],
   "source": [
    "codec = Codec(rule=rule)\n",
    "encoded_model = codec.encode(model = model)"
   ]
  }
 ],
 "metadata": {
  "kernelspec": {
   "display_name": "Python 3 (ipykernel)",
   "language": "python",
   "name": "python3"
  },
  "language_info": {
   "codemirror_mode": {
    "name": "ipython",
    "version": 3
   },
   "file_extension": ".py",
   "mimetype": "text/x-python",
   "name": "python",
   "nbconvert_exporter": "python",
   "pygments_lexer": "ipython3",
   "version": "3.8.13"
  }
 },
 "nbformat": 4,
 "nbformat_minor": 2
}
